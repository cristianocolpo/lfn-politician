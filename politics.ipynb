{
 "cells": [
  {
   "cell_type": "markdown",
   "metadata": {},
   "source": [
    "# CENTRALITY IS ALL YOU NEED\n",
    "## LFN Project"
   ]
  },
  {
   "cell_type": "markdown",
   "metadata": {},
   "source": [
    "### Description of the project\n",
    "- **Aim**: try to detect the most influential political figures and their political party."
   ]
  },
  {
   "cell_type": "markdown",
   "metadata": {},
   "source": [
    "## Load libraries"
   ]
  },
  {
   "cell_type": "code",
   "execution_count": 1,
   "metadata": {
    "id": "KEvdJxxyGF8z"
   },
   "outputs": [
    {
     "data": {
      "text/html": [
       "\n",
       "\t\t\t<script type=\"text/javascript\">\n",
       "\t\t\t<!--\n",
       "\t\t\t\t\n",
       "\t\t\t{\n",
       "\t\t\t\tvar element = document.getElementById('NetworKit_script');\n",
       "\t\t\t\tif (element) {\n",
       "\t\t\t\t\telement.parentNode.removeChild(element);\n",
       "\t\t\t\t}\n",
       "\t\t\t\telement = document.createElement('script');\n",
       "\t\t\t\telement.type = 'text/javascript';\n",
       "\t\t\t\telement.innerHTML = 'function NetworKit_pageEmbed(id) { var i, j; var elements; elements = document.getElementById(id).getElementsByClassName(\"Plot\"); for (i=0; i<elements.length; i++) { elements[i].id = id + \"_Plot_\" + i; var data = elements[i].getAttribute(\"data-image\").split(\"|\"); elements[i].removeAttribute(\"data-image\"); var content = \"<div class=\\\\\"Image\\\\\" id=\\\\\"\" + elements[i].id + \"_Image\\\\\" />\"; elements[i].innerHTML = content; elements[i].setAttribute(\"data-image-index\", 0); elements[i].setAttribute(\"data-image-length\", data.length); for (j=0; j<data.length; j++) { elements[i].setAttribute(\"data-image-\" + j, data[j]); } NetworKit_plotUpdate(elements[i]); elements[i].onclick = function (e) { NetworKit_overlayShow((e.target) ? e.target : e.srcElement); } } elements = document.getElementById(id).getElementsByClassName(\"HeatCell\"); for (i=0; i<elements.length; i++) { var data = parseFloat(elements[i].getAttribute(\"data-heat\")); var color = \"#00FF00\"; if (data <= 1 && data > 0) { color = \"hsla(0, 100%, 75%, \" + (data) + \")\"; } else if (data <= 0 && data >= -1) { color = \"hsla(240, 100%, 75%, \" + (-data) + \")\"; } elements[i].style.backgroundColor = color; } elements = document.getElementById(id).getElementsByClassName(\"Details\"); for (i=0; i<elements.length; i++) { elements[i].setAttribute(\"data-title\", \"-\"); NetworKit_toggleDetails(elements[i]); elements[i].onclick = function (e) { NetworKit_toggleDetails((e.target) ? e.target : e.srcElement); } } elements = document.getElementById(id).getElementsByClassName(\"MathValue\"); for (i=elements.length-1; i>=0; i--) { value = elements[i].innerHTML.trim(); if (value === \"nan\") { elements[i].parentNode.innerHTML = \"\" } } elements = document.getElementById(id).getElementsByClassName(\"SubCategory\"); for (i=elements.length-1; i>=0; i--) { value = elements[i].innerHTML.trim(); if (value === \"\") { elements[i].parentNode.removeChild(elements[i]) } } elements = document.getElementById(id).getElementsByClassName(\"Category\"); for (i=elements.length-1; i>=0; i--) { value = elements[i].innerHTML.trim(); if (value === \"\") { elements[i].parentNode.removeChild(elements[i]) } } var isFirefox = false; try { isFirefox = typeof InstallTrigger !== \"undefined\"; } catch (e) {} if (!isFirefox) { alert(\"Currently the function\\'s output is only fully supported by Firefox.\"); } } function NetworKit_plotUpdate(source) { var index = source.getAttribute(\"data-image-index\"); var data = source.getAttribute(\"data-image-\" + index); var image = document.getElementById(source.id + \"_Image\"); image.style.backgroundImage = \"url(\" + data + \")\"; } function NetworKit_showElement(id, show) { var element = document.getElementById(id); element.style.display = (show) ? \"block\" : \"none\"; } function NetworKit_overlayShow(source) { NetworKit_overlayUpdate(source); NetworKit_showElement(\"NetworKit_Overlay\", true); } function NetworKit_overlayUpdate(source) { document.getElementById(\"NetworKit_Overlay_Title\").innerHTML = source.title; var index = source.getAttribute(\"data-image-index\"); var data = source.getAttribute(\"data-image-\" + index); var image = document.getElementById(\"NetworKit_Overlay_Image\"); image.setAttribute(\"data-id\", source.id); image.style.backgroundImage = \"url(\" + data + \")\"; var link = document.getElementById(\"NetworKit_Overlay_Toolbar_Bottom_Save\"); link.href = data; link.download = source.title + \".svg\"; } function NetworKit_overlayImageShift(delta) { var image = document.getElementById(\"NetworKit_Overlay_Image\"); var source = document.getElementById(image.getAttribute(\"data-id\")); var index = parseInt(source.getAttribute(\"data-image-index\")); var length = parseInt(source.getAttribute(\"data-image-length\")); var index = (index+delta) % length; if (index < 0) { index = length + index; } source.setAttribute(\"data-image-index\", index); NetworKit_overlayUpdate(source); } function NetworKit_toggleDetails(source) { var childs = source.children; var show = false; if (source.getAttribute(\"data-title\") == \"-\") { source.setAttribute(\"data-title\", \"+\"); show = false; } else { source.setAttribute(\"data-title\", \"-\"); show = true; } for (i=0; i<childs.length; i++) { if (show) { childs[i].style.display = \"block\"; } else { childs[i].style.display = \"none\"; } } }';\n",
       "\t\t\t\telement.setAttribute('id', 'NetworKit_script');\n",
       "\t\t\t\tdocument.head.appendChild(element);\n",
       "\t\t\t}\n",
       "\t\t\n",
       "\t\t\t\t\n",
       "\t\t\t{\n",
       "\t\t\t\tvar element = document.getElementById('NetworKit_style');\n",
       "\t\t\t\tif (element) {\n",
       "\t\t\t\t\telement.parentNode.removeChild(element);\n",
       "\t\t\t\t}\n",
       "\t\t\t\telement = document.createElement('style');\n",
       "\t\t\t\telement.type = 'text/css';\n",
       "\t\t\t\telement.innerHTML = '.NetworKit_Page { font-family: Arial, Helvetica, sans-serif; font-size: 14px; } .NetworKit_Page .Value:before { font-family: Arial, Helvetica, sans-serif; font-size: 1.05em; content: attr(data-title) \":\"; margin-left: -2.5em; padding-right: 0.5em; } .NetworKit_Page .Details .Value:before { display: block; } .NetworKit_Page .Value { font-family: monospace; white-space: pre; padding-left: 2.5em; white-space: -moz-pre-wrap !important; white-space: -pre-wrap; white-space: -o-pre-wrap; white-space: pre-wrap; word-wrap: break-word; tab-size: 4; -moz-tab-size: 4; } .NetworKit_Page .Category { clear: both; padding-left: 1em; margin-bottom: 1.5em; } .NetworKit_Page .Category:before { content: attr(data-title); font-size: 1.75em; display: block; margin-left: -0.8em; margin-bottom: 0.5em; } .NetworKit_Page .SubCategory { margin-bottom: 1.5em; padding-left: 1em; } .NetworKit_Page .SubCategory:before { font-size: 1.6em; display: block; margin-left: -0.8em; margin-bottom: 0.5em; } .NetworKit_Page .SubCategory[data-title]:before { content: attr(data-title); } .NetworKit_Page .Block { display: block; } .NetworKit_Page .Block:after { content: \".\"; visibility: hidden; display: block; height: 0; clear: both; } .NetworKit_Page .Block .Thumbnail_Overview, .NetworKit_Page .Block .Thumbnail_ScatterPlot { width: 260px; float: left; } .NetworKit_Page .Block .Thumbnail_Overview img, .NetworKit_Page .Block .Thumbnail_ScatterPlot img { width: 260px; } .NetworKit_Page .Block .Thumbnail_Overview:before, .NetworKit_Page .Block .Thumbnail_ScatterPlot:before { display: block; text-align: center; font-weight: bold; } .NetworKit_Page .Block .Thumbnail_Overview:before { content: attr(data-title); } .NetworKit_Page .HeatCell { font-family: \"Courier New\", Courier, monospace; cursor: pointer; } .NetworKit_Page .HeatCell, .NetworKit_Page .HeatCellName { display: inline; padding: 0.1em; margin-right: 2px; background-color: #FFFFFF } .NetworKit_Page .HeatCellName { margin-left: 0.25em; } .NetworKit_Page .HeatCell:before { content: attr(data-heat); display: inline-block; color: #000000; width: 4em; text-align: center; } .NetworKit_Page .Measure { clear: both; } .NetworKit_Page .Measure .Details { cursor: pointer; } .NetworKit_Page .Measure .Details:before { content: \"[\" attr(data-title) \"]\"; display: block; } .NetworKit_Page .Measure .Details .Value { border-left: 1px dotted black; margin-left: 0.4em; padding-left: 3.5em; pointer-events: none; } .NetworKit_Page .Measure .Details .Spacer:before { content: \".\"; opacity: 0.0; pointer-events: none; } .NetworKit_Page .Measure .Plot { width: 440px; height: 440px; cursor: pointer; float: left; margin-left: -0.9em; margin-right: 20px; } .NetworKit_Page .Measure .Plot .Image { background-repeat: no-repeat; background-position: center center; background-size: contain; height: 100%; pointer-events: none; } .NetworKit_Page .Measure .Stat { width: 500px; float: left; } .NetworKit_Page .Measure .Stat .Group { padding-left: 1.25em; margin-bottom: 0.75em; } .NetworKit_Page .Measure .Stat .Group .Title { font-size: 1.1em; display: block; margin-bottom: 0.3em; margin-left: -0.75em; border-right-style: dotted; border-right-width: 1px; border-bottom-style: dotted; border-bottom-width: 1px; background-color: #D0D0D0; padding-left: 0.2em; } .NetworKit_Page .Measure .Stat .Group .List { -webkit-column-count: 3; -moz-column-count: 3; column-count: 3; } .NetworKit_Page .Measure .Stat .Group .List .Entry { position: relative; line-height: 1.75em; } .NetworKit_Page .Measure .Stat .Group .List .Entry[data-tooltip]:before { position: absolute; left: 0; top: -40px; background-color: #808080; color: #ffffff; height: 30px; line-height: 30px; border-radius: 5px; padding: 0 15px; content: attr(data-tooltip); white-space: nowrap; display: none; } .NetworKit_Page .Measure .Stat .Group .List .Entry[data-tooltip]:after { position: absolute; left: 15px; top: -10px; border-top: 7px solid #808080; border-left: 7px solid transparent; border-right: 7px solid transparent; content: \"\"; display: none; } .NetworKit_Page .Measure .Stat .Group .List .Entry[data-tooltip]:hover:after, .NetworKit_Page .Measure .Stat .Group .List .Entry[data-tooltip]:hover:before { display: block; } .NetworKit_Page .Measure .Stat .Group .List .Entry .MathValue { font-family: \"Courier New\", Courier, monospace; } .NetworKit_Page .Measure:after { content: \".\"; visibility: hidden; display: block; height: 0; clear: both; } .NetworKit_Page .PartitionPie { clear: both; } .NetworKit_Page .PartitionPie img { width: 600px; } #NetworKit_Overlay { left: 0px; top: 0px; display: none; position: absolute; width: 100%; height: 100%; background-color: rgba(0,0,0,0.6); z-index: 1000; } #NetworKit_Overlay_Title { position: absolute; color: white; transform: rotate(-90deg); width: 32em; height: 32em; padding-right: 0.5em; padding-top: 0.5em; text-align: right; font-size: 40px; } #NetworKit_Overlay .button { background: white; cursor: pointer; } #NetworKit_Overlay .button:before { size: 13px; display: inline-block; text-align: center; margin-top: 0.5em; margin-bottom: 0.5em; width: 1.5em; height: 1.5em; } #NetworKit_Overlay .icon-close:before { content: \"X\"; } #NetworKit_Overlay .icon-previous:before { content: \"P\"; } #NetworKit_Overlay .icon-next:before { content: \"N\"; } #NetworKit_Overlay .icon-save:before { content: \"S\"; } #NetworKit_Overlay_Toolbar_Top, #NetworKit_Overlay_Toolbar_Bottom { position: absolute; width: 40px; right: 13px; text-align: right; z-index: 1100; } #NetworKit_Overlay_Toolbar_Top { top: 0.5em; } #NetworKit_Overlay_Toolbar_Bottom { Bottom: 0.5em; } #NetworKit_Overlay_ImageContainer { position: absolute; top: 5%; left: 5%; height: 90%; width: 90%; background-repeat: no-repeat; background-position: center center; background-size: contain; } #NetworKit_Overlay_Image { height: 100%; width: 100%; background-repeat: no-repeat; background-position: center center; background-size: contain; }';\n",
       "\t\t\t\telement.setAttribute('id', 'NetworKit_style');\n",
       "\t\t\t\tdocument.head.appendChild(element);\n",
       "\t\t\t}\n",
       "\t\t\n",
       "\t\t\t\t\n",
       "\t\t\t{\n",
       "\t\t\t\tvar element = document.getElementById('NetworKit_Overlay');\n",
       "\t\t\t\tif (element) {\n",
       "\t\t\t\t\telement.parentNode.removeChild(element);\n",
       "\t\t\t\t}\n",
       "\t\t\t\telement = document.createElement('div');\n",
       "\t\t\t\telement.innerHTML = '<div id=\"NetworKit_Overlay_Toolbar_Top\"><div class=\"button icon-close\" id=\"NetworKit_Overlay_Close\" /></div><div id=\"NetworKit_Overlay_Title\" /> <div id=\"NetworKit_Overlay_ImageContainer\"> <div id=\"NetworKit_Overlay_Image\" /> </div> <div id=\"NetworKit_Overlay_Toolbar_Bottom\"> <div class=\"button icon-previous\" onclick=\"NetworKit_overlayImageShift(-1)\" /> <div class=\"button icon-next\" onclick=\"NetworKit_overlayImageShift(1)\" /> <a id=\"NetworKit_Overlay_Toolbar_Bottom_Save\"><div class=\"button icon-save\" /></a> </div>';\n",
       "\t\t\t\telement.setAttribute('id', 'NetworKit_Overlay');\n",
       "\t\t\t\tdocument.body.appendChild(element);\n",
       "\t\t\t\tdocument.getElementById('NetworKit_Overlay_Close').onclick = function (e) {\n",
       "\t\t\t\t\tdocument.getElementById('NetworKit_Overlay').style.display = 'none';\n",
       "\t\t\t\t}\n",
       "\t\t\t}\n",
       "\t\t\n",
       "\t\t\t-->\n",
       "\t\t\t</script>\n",
       "\t\t"
      ]
     },
     "metadata": {},
     "output_type": "display_data"
    }
   ],
   "source": [
    "#!pip install networkit\n",
    "#!pip install pyvis\n",
    "import networkx as nx\n",
    "import networkit as nk\n",
    "import csv\n",
    "import time\n",
    "from tqdm import tqdm\n",
    "import pandas as pd\n",
    "import numpy as np\n",
    "from pyvis.network import Network\n",
    "from tqdm import tqdm\n",
    "import matplotlib.pyplot as plt"
   ]
  },
  {
   "cell_type": "markdown",
   "metadata": {},
   "source": [
    "## Loading of the graph and calculation of some metrics"
   ]
  },
  {
   "cell_type": "code",
   "execution_count": 2,
   "metadata": {
    "id": "wBnTGctvGF82"
   },
   "outputs": [],
   "source": [
    "edges = pd.read_csv(\"data/fb-pages-politician.edges\", sep = \",\", header=None)\n",
    "nodes = pd.read_csv(\"data/fb-pages-politician.nodes\", sep = \",\")"
   ]
  },
  {
   "cell_type": "code",
   "execution_count": 3,
   "metadata": {
    "colab": {
     "base_uri": "https://localhost:8080/",
     "height": 411
    },
    "id": "kXILuQjaGF83",
    "outputId": "8779e830-bfaf-4c1d-ede4-1d972faf3127"
   },
   "outputs": [
    {
     "data": {
      "text/html": [
       "<div>\n",
       "<style scoped>\n",
       "    .dataframe tbody tr th:only-of-type {\n",
       "        vertical-align: middle;\n",
       "    }\n",
       "\n",
       "    .dataframe tbody tr th {\n",
       "        vertical-align: top;\n",
       "    }\n",
       "\n",
       "    .dataframe thead th {\n",
       "        text-align: right;\n",
       "    }\n",
       "</style>\n",
       "<table border=\"1\" class=\"dataframe\">\n",
       "  <thead>\n",
       "    <tr style=\"text-align: right;\">\n",
       "      <th></th>\n",
       "      <th>id</th>\n",
       "      <th>name</th>\n",
       "      <th>new_id</th>\n",
       "    </tr>\n",
       "  </thead>\n",
       "  <tbody>\n",
       "    <tr>\n",
       "      <th>0</th>\n",
       "      <td>127397457601670</td>\n",
       "      <td>陳根德</td>\n",
       "      <td>1661</td>\n",
       "    </tr>\n",
       "    <tr>\n",
       "      <th>1</th>\n",
       "      <td>169014523134260</td>\n",
       "      <td>林淑芬</td>\n",
       "      <td>52</td>\n",
       "    </tr>\n",
       "    <tr>\n",
       "      <th>2</th>\n",
       "      <td>295363753921281</td>\n",
       "      <td>Chris White</td>\n",
       "      <td>3477</td>\n",
       "    </tr>\n",
       "    <tr>\n",
       "      <th>3</th>\n",
       "      <td>613631835423903</td>\n",
       "      <td>Stewart Hosie MP</td>\n",
       "      <td>3193</td>\n",
       "    </tr>\n",
       "    <tr>\n",
       "      <th>4</th>\n",
       "      <td>284882801581896</td>\n",
       "      <td>Frank Schäffler</td>\n",
       "      <td>4425</td>\n",
       "    </tr>\n",
       "    <tr>\n",
       "      <th>...</th>\n",
       "      <td>...</td>\n",
       "      <td>...</td>\n",
       "      <td>...</td>\n",
       "    </tr>\n",
       "    <tr>\n",
       "      <th>5903</th>\n",
       "      <td>342943772496246</td>\n",
       "      <td>Kevin Byrne</td>\n",
       "      <td>3778</td>\n",
       "    </tr>\n",
       "    <tr>\n",
       "      <th>5904</th>\n",
       "      <td>193944157325672</td>\n",
       "      <td>Timur Husein</td>\n",
       "      <td>439</td>\n",
       "    </tr>\n",
       "    <tr>\n",
       "      <th>5905</th>\n",
       "      <td>142026376065</td>\n",
       "      <td>Jeremy Lefroy</td>\n",
       "      <td>159</td>\n",
       "    </tr>\n",
       "    <tr>\n",
       "      <th>5906</th>\n",
       "      <td>294019144024664</td>\n",
       "      <td>Ileana Argentin</td>\n",
       "      <td>107</td>\n",
       "    </tr>\n",
       "    <tr>\n",
       "      <th>5907</th>\n",
       "      <td>142338164826</td>\n",
       "      <td>Rafael Anchía</td>\n",
       "      <td>390</td>\n",
       "    </tr>\n",
       "  </tbody>\n",
       "</table>\n",
       "<p>5908 rows × 3 columns</p>\n",
       "</div>"
      ],
      "text/plain": [
       "                   id              name  new_id\n",
       "0     127397457601670               陳根德    1661\n",
       "1     169014523134260               林淑芬      52\n",
       "2     295363753921281       Chris White    3477\n",
       "3     613631835423903  Stewart Hosie MP    3193\n",
       "4     284882801581896   Frank Schäffler    4425\n",
       "...               ...               ...     ...\n",
       "5903  342943772496246       Kevin Byrne    3778\n",
       "5904  193944157325672      Timur Husein     439\n",
       "5905     142026376065     Jeremy Lefroy     159\n",
       "5906  294019144024664   Ileana Argentin     107\n",
       "5907     142338164826     Rafael Anchía     390\n",
       "\n",
       "[5908 rows x 3 columns]"
      ]
     },
     "execution_count": 3,
     "metadata": {},
     "output_type": "execute_result"
    }
   ],
   "source": [
    "nodes"
   ]
  },
  {
   "cell_type": "code",
   "execution_count": 4,
   "metadata": {
    "id": "DlGxuEJwGF84"
   },
   "outputs": [],
   "source": [
    "#needs a dictionary in order to relabel the nodes\n",
    "labelsDict = pd.Series(nodes.name.values,index=nodes.new_id).to_dict()"
   ]
  },
  {
   "cell_type": "code",
   "execution_count": 5,
   "metadata": {
    "id": "RxEjnGA5GF85"
   },
   "outputs": [],
   "source": [
    "G = nx.Graph()\n",
    "G = nx.from_pandas_edgelist(edges,0, 1)\n",
    "G = nx.relabel_nodes(G, labelsDict)"
   ]
  },
  {
   "cell_type": "code",
   "execution_count": 6,
   "metadata": {},
   "outputs": [
    {
     "data": {
      "text/plain": [
       "False"
      ]
     },
     "execution_count": 6,
     "metadata": {},
     "output_type": "execute_result"
    }
   ],
   "source": [
    "G.is_directed()"
   ]
  },
  {
   "cell_type": "code",
   "execution_count": 7,
   "metadata": {
    "id": "Mgt0EuiDGF9F"
   },
   "outputs": [],
   "source": [
    "nkG = nk.nxadapter.nx2nk(G)"
   ]
  },
  {
   "cell_type": "code",
   "execution_count": 8,
   "metadata": {
    "colab": {
     "base_uri": "https://localhost:8080/"
    },
    "id": "pfsUPE2QGF87",
    "outputId": "aa2e7edb-b777-4774-93b8-fde70d44066e"
   },
   "outputs": [
    {
     "name": "stdout",
     "output_type": "stream",
     "text": [
      "Is G connected?  True\n",
      "Number of connected components:  1\n"
     ]
    }
   ],
   "source": [
    "print(\"Is G connected? \",nx.is_connected(G))\n",
    "print(\"Number of connected components: \", nx.number_connected_components(G))"
   ]
  },
  {
   "cell_type": "code",
   "execution_count": 9,
   "metadata": {
    "colab": {
     "base_uri": "https://localhost:8080/"
    },
    "id": "hbmnDzIeNGRR",
    "outputId": "f590fd8f-cd20-447c-cad7-ed13d1907c1c"
   },
   "outputs": [
    {
     "name": "stdout",
     "output_type": "stream",
     "text": [
      "number of components  1\n",
      "map of component size:  {0: 5906}\n"
     ]
    }
   ],
   "source": [
    "#connected components with networkit\n",
    "cc = nk.components.ConnectedComponents(nkG)\n",
    "cc.run()\n",
    "print(\"number of components \", cc.numberOfComponents())\n",
    "print(\"map of component size: \", cc.getComponentSizes())"
   ]
  },
  {
   "cell_type": "code",
   "execution_count": 10,
   "metadata": {
    "colab": {
     "base_uri": "https://localhost:8080/"
    },
    "id": "Qjo_B7JgPBsf",
    "outputId": "0866276f-5963-4d8f-f352-bfd476304126"
   },
   "outputs": [
    {
     "data": {
      "text/plain": [
       "(14, 0)"
      ]
     },
     "execution_count": 10,
     "metadata": {},
     "output_type": "execute_result"
    }
   ],
   "source": [
    "#diameter (estimate)\n",
    "#This algorithm gives an estimation of the diameter of a given graph. The algorithm is based on the ExactSumSweep algorithm presented in Michele Borassi, Pierluigi Crescenzi, Michel Habib, Walter A. Kosters, Andrea Marino, Frank W. Takes: http://www.sciencedirect.com/science/article/pii/S0304397515001644.\n",
    "diam = nk.distance.Diameter(nkG,algo=1)\n",
    "diam.run()\n",
    "diam.getDiameter() \n",
    "#The return value of getDiameter is a pair of integers: the lower bound and upper bound of the diameter. \n",
    "#In the case, that we computed the exact diameter, the diameter is the first value of the pair."
   ]
  },
  {
   "cell_type": "code",
   "execution_count": null,
   "metadata": {
    "colab": {
     "base_uri": "https://localhost:8080/"
    },
    "id": "DmJaAgWEQN2d",
    "outputId": "b298b2ae-d5b6-4447-9be9-ad7c43a0459a"
   },
   "outputs": [],
   "source": [
    "#diameter (effective)\n",
    "#The effective diameter is defined as the number of edges on average to reach a given ratio of all other nodes.\n",
    "#The EffectiveDiameter(G, ratio=0.9) constructor expects an undirected graph and the ratio of nodes that should be connected. The ratio must be between in the interval (0,1].\n",
    "ed = nk.distance.EffectiveDiameter(nkG)\n",
    "ed.run()\n",
    "ed.getEffectiveDiameter()"
   ]
  },
  {
   "cell_type": "code",
   "execution_count": null,
   "metadata": {
    "colab": {
     "base_uri": "https://localhost:8080/"
    },
    "id": "-lnUgjxnQ-pd",
    "outputId": "809a126e-9d81-4888-c9cd-339bd73b8d76"
   },
   "outputs": [],
   "source": [
    "#effective diameter approximation\n",
    "eda = nk.distance.EffectiveDiameterApproximation(nkG)\n",
    "eda.run()\n",
    "eda.getEffectiveDiameter()"
   ]
  },
  {
   "cell_type": "code",
   "execution_count": null,
   "metadata": {
    "colab": {
     "base_uri": "https://localhost:8080/",
     "height": 283
    },
    "id": "wCRMCzdAMWw0",
    "outputId": "34f930d9-a548-4a57-948c-6fbadfdfa3ca"
   },
   "outputs": [],
   "source": [
    "#degree distribution in our original graph\n",
    "dd = sorted(nk.centrality.DegreeCentrality(nkG).run().scores(), reverse=True)\n",
    "plt.xscale(\"log\")\n",
    "plt.xlabel(\"degree\")\n",
    "plt.yscale(\"log\")\n",
    "plt.ylabel(\"number of nodes\")\n",
    "plt.plot(dd)\n",
    "plt.show()"
   ]
  },
  {
   "cell_type": "code",
   "execution_count": null,
   "metadata": {
    "colab": {
     "base_uri": "https://localhost:8080/"
    },
    "id": "DLuBREbXK92k",
    "outputId": "ae0eaa52-74ee-4c1a-ab3a-c2d3402a3eb4"
   },
   "outputs": [],
   "source": [
    "#some info in our original graph if we are interested\n",
    "communities = nk.community.detectCommunities(nkG)\n",
    "nk.community.Modularity().getQuality(communities, nkG)"
   ]
  },
  {
   "cell_type": "code",
   "execution_count": null,
   "metadata": {
    "colab": {
     "base_uri": "https://localhost:8080/",
     "height": 272
    },
    "id": "PGmQTUPOOczg",
    "outputId": "90fa82b6-f7a3-4c96-dfdd-922697f96c93"
   },
   "outputs": [],
   "source": [
    "sizes = communities.subsetSizes()\n",
    "sizes.sort(reverse=True)\n",
    "ax1 = plt.subplot(2,1,1)\n",
    "ax1.set_ylabel(\"size\")\n",
    "ax1.plot(sizes)\n",
    "\n",
    "ax2 = plt.subplot(2,1,2)\n",
    "ax2.set_xscale(\"log\")\n",
    "ax2.set_yscale(\"log\")\n",
    "ax2.set_ylabel(\"size\")\n",
    "ax2.plot(sizes)\n",
    "plt.show()"
   ]
  },
  {
   "cell_type": "markdown",
   "metadata": {},
   "source": [
    "## Closeness and Betweenness centrality"
   ]
  },
  {
   "cell_type": "code",
   "execution_count": null,
   "metadata": {
    "colab": {
     "base_uri": "https://localhost:8080/"
    },
    "id": "srbv5YH5GF9A",
    "outputId": "a9edcd0d-1381-42a2-ff31-e7a780d0b621"
   },
   "outputs": [],
   "source": [
    "def centrality(G,alg, lib):\n",
    "    if alg == \"closeness\" and lib == \"nx\":\n",
    "        start_time = time.time()\n",
    "        colsenessCentrality_nx = nx.closeness_centrality(G)\n",
    "        print(\"--- %s seconds ---\" % (time.time() - start_time))\n",
    "        return colsenessCentrality_nx\n",
    "    if alg == \"betweenness\" and lib == \"nx\":\n",
    "        start_time = time.time()\n",
    "        betweennessCentrality_nx = nx.betweenness_centrality(G)\n",
    "        print(\"--- %s seconds ---\" % (time.time() - start_time))\n",
    "        return betweennessCentrality_nx\n",
    "    if alg == \"closeness\" and lib == \"nk\":\n",
    "        start_time = time.time()\n",
    "        nkColsenessCentrality = nk.centrality.Closeness(G,True,False).run()\n",
    "        print(\"--- %s seconds ---\" % (time.time() - start_time))\n",
    "        return nkColsenessCentrality.ranking()\n",
    "    if alg == \"betweenness\" and lib == \"nk\":\n",
    "        start_time = time.time()\n",
    "        nkBetweennessCentrality = nk.centrality.Betweenness(G,True,False).run()\n",
    "        print(\"--- %s seconds ---\" % (time.time() - start_time))\n",
    "        return nkBetweennessCentrality.ranking()\n",
    "    if alg == \"approxclose\" and lib == \"nk\":\n",
    "        start_time = time.time()\n",
    "        nkApproxColsenessCentrality = nk.centrality.ApproxCloseness(G,True,False).run()\n",
    "        print(\"--- %s seconds ---\" % (time.time() - start_time))\n",
    "        return nkApproxColsenessCentrality.ranking()\n",
    "    if alg == \"approxbet\" and lib == \"nk\":\n",
    "        start_time = time.time()\n",
    "        nkApproxBetweennessCentrality = nk.centrality.ApproxBetweenness(G).run()\n",
    "        print(\"--- %s seconds ---\" % (time.time() - start_time))\n",
    "        return nkApproxBetweennessCentrality.ranking()"
   ]
  },
  {
   "cell_type": "code",
   "execution_count": null,
   "metadata": {
    "colab": {
     "base_uri": "https://localhost:8080/"
    },
    "id": "hftCIvhwGF9C",
    "outputId": "27a56812-f1de-4a33-ca57-189243bda891"
   },
   "outputs": [],
   "source": [
    "#centrality(G,\"closeness\",\"nx\")"
   ]
  },
  {
   "cell_type": "code",
   "execution_count": null,
   "metadata": {
    "colab": {
     "base_uri": "https://localhost:8080/"
    },
    "id": "5-xUHxEhGF9G",
    "outputId": "ce5bf612-5bcf-43ae-d133-7249cfa18c11"
   },
   "outputs": [],
   "source": [
    "centrality(nkG,\"closeness\",\"nk\")"
   ]
  },
  {
   "cell_type": "code",
   "execution_count": null,
   "metadata": {
    "colab": {
     "base_uri": "https://localhost:8080/"
    },
    "id": "NpXCeJhzGF9H",
    "outputId": "d92ff829-7ed3-4460-fa4b-f9b0db9807b3"
   },
   "outputs": [],
   "source": [
    "#centrality(G,\"betweenness\",\"nx\")"
   ]
  },
  {
   "cell_type": "code",
   "execution_count": null,
   "metadata": {
    "colab": {
     "base_uri": "https://localhost:8080/"
    },
    "id": "6IUPG7rkGF9I",
    "outputId": "b77187e9-78f7-46b5-ff44-e157d1a64200"
   },
   "outputs": [],
   "source": [
    "centrality(nkG,\"betweenness\",\"nk\")"
   ]
  },
  {
   "cell_type": "code",
   "execution_count": null,
   "metadata": {
    "colab": {
     "base_uri": "https://localhost:8080/"
    },
    "id": "o2Wlqv9AGF9I",
    "outputId": "93bb618f-608b-4686-a97a-8127df1a50f5"
   },
   "outputs": [],
   "source": [
    "centrality(nkG,\"approxclose\",\"nk\")"
   ]
  },
  {
   "cell_type": "code",
   "execution_count": null,
   "metadata": {},
   "outputs": [],
   "source": [
    "centrality(nkG,\"approxbet\",\"nk\")"
   ]
  },
  {
   "cell_type": "code",
   "execution_count": null,
   "metadata": {
    "id": "KbAEXFPGGF9J"
   },
   "outputs": [],
   "source": [
    "#visualize a subgraph\n",
    "#H = G.subgraph(list(G.nodes)[:100])\n",
    "#nt = Network('900px','1820px')\n",
    "#nt.from_nx(H)\n",
    "#nt.show('nx.html')"
   ]
  },
  {
   "cell_type": "markdown",
   "metadata": {
    "id": "OmYwasThOOq0"
   },
   "source": [
    "## Global and local clustering coefficient"
   ]
  },
  {
   "cell_type": "code",
   "execution_count": null,
   "metadata": {
    "colab": {
     "base_uri": "https://localhost:8080/"
    },
    "id": "nCLT8l80GF9K",
    "outputId": "b68abf72-d9b5-4960-ceb2-ed0646ea249c"
   },
   "outputs": [],
   "source": [
    "#Returns approximate average average local clustering coefficient (networkit)\n",
    "ACC_nkG = nk.globals.clustering(nkG)\n",
    "ACC_nkG"
   ]
  },
  {
   "cell_type": "code",
   "execution_count": null,
   "metadata": {},
   "outputs": [],
   "source": [
    "#Local Clustering Coefficient does not accept graphs with self loops.\n",
    "#We remove them and compute the scores \n",
    "nkG.removeSelfLoops()\n",
    "LCC_nkG = nk.centrality.LocalClusteringCoefficient(nkG).run()"
   ]
  },
  {
   "cell_type": "code",
   "execution_count": null,
   "metadata": {},
   "outputs": [],
   "source": [
    "len(LCC_nkG.scores()),LCC_nkG.scores()"
   ]
  },
  {
   "cell_type": "code",
   "execution_count": null,
   "metadata": {
    "colab": {
     "base_uri": "https://localhost:8080/"
    },
    "id": "wfAlOLorShTA",
    "outputId": "8d436313-6aff-424b-993f-f9dad9bdaf2d"
   },
   "outputs": [],
   "source": [
    "#Returns average clustering coefficient with networkx\n",
    "ACC_nxG = nx.average_clustering(G)\n",
    "ACC_nxG"
   ]
  },
  {
   "cell_type": "code",
   "execution_count": null,
   "metadata": {},
   "outputs": [],
   "source": [
    "#Networkx does not return an error for the self loops.\n",
    "#However we obtain a dictionary of the same length, \n",
    "#so it removes implicity the self loops\n",
    "LCC_nxG = nx.clustering(G)\n",
    "len(LCC_nxG), LCC_nxG"
   ]
  },
  {
   "cell_type": "markdown",
   "metadata": {
    "id": "gcSr2BrGN4kN"
   },
   "source": [
    "## Random Graphs"
   ]
  },
  {
   "cell_type": "code",
   "execution_count": null,
   "metadata": {
    "colab": {
     "base_uri": "https://localhost:8080/"
    },
    "id": "qLMbawAxIw8q",
    "outputId": "8e4714ce-dc91-47c3-bde9-231d51e06a5f"
   },
   "outputs": [],
   "source": [
    "#Erdös-Renyi model\n",
    "ERD = nk.generators.ErdosRenyiGenerator(G.number_of_nodes(), 0.2).generate()\n",
    "print(ERD.numberOfNodes(), ERD.numberOfEdges())\n",
    "#nk.community.detectCommunities(ERD)"
   ]
  },
  {
   "cell_type": "code",
   "execution_count": null,
   "metadata": {
    "colab": {
     "base_uri": "https://localhost:8080/"
    },
    "id": "_1bodcA6IGVM",
    "outputId": "6a15e746-a1f3-44f0-df85-70143b9192db"
   },
   "outputs": [],
   "source": [
    "#Simple variant of Erdös-Renyi model\n",
    "#The node set is partitioned into a given number of subsets. Nodes within the same subset have a higher edge probability.\n",
    "CRG = nk.generators.ClusteredRandomGraphGenerator(G.number_of_nodes(), 4, 0.2, 0.002).generate()\n",
    "print(CRG.numberOfNodes(), CRG.numberOfEdges())\n",
    "#nk.community.detectCommunities(CRG)"
   ]
  },
  {
   "cell_type": "code",
   "execution_count": null,
   "metadata": {
    "colab": {
     "base_uri": "https://localhost:8080/"
    },
    "id": "6vP_ynlcIRrj",
    "outputId": "53fc6f7e-1a34-4317-c367-96ee47cd3bc2"
   },
   "outputs": [],
   "source": [
    "#Chung-Lu model\n",
    "degreeSequence = [CRG.degree(v) for v in CRG.iterNodes()]\n",
    "clgen = nk.generators.ChungLuGenerator(degreeSequence)\n",
    "CLG = clgen.generate()\n",
    "print(CLG.numberOfNodes(), CLG.numberOfEdges())\n",
    "#nk.community.detectCommunities(CLG)"
   ]
  },
  {
   "cell_type": "code",
   "execution_count": null,
   "metadata": {},
   "outputs": [],
   "source": [
    "def generateRandGraphs(alg, nrGraphs, param):\n",
    "    G = []\n",
    "    \n",
    "    if alg == \"ER\":\n",
    "        nrNodes, prob = param\n",
    "        for i in range(nrGraphs):\n",
    "            ER = nk.generators.ErdosRenyiGenerator(nrNodes, prob).generate()\n",
    "            G.append(ER)\n",
    "    if alg == \"CL\":\n",
    "        for i in range(nrGraphs):\n",
    "            CL = nk.generators.ChungLuGenerator(degreeSequence).generate()\n",
    "            G.append(CL)\n",
    "    return G"
   ]
  },
  {
   "cell_type": "markdown",
   "metadata": {
    "id": "zHQIhUrQOFW4"
   },
   "source": [
    "## Significant check: z-score and p-values"
   ]
  },
  {
   "cell_type": "code",
   "execution_count": null,
   "metadata": {},
   "outputs": [],
   "source": [
    "# Generate random graphs\n",
    "# Compute metricslike E[F(G')], sigma[F(G')] of the random graphs \n",
    "# Compute z-score\n",
    "def zscore(f,expect_FG, sigma_FG):\n",
    "    #print(f,expect_FG,sigma_FG)\n",
    "    z = (f - expect_FG)/sigma_FG;\n",
    "    return z\n",
    "\n",
    "# Compute p-values\n",
    "# input: \n",
    "#    FG: list of features from graph G\n",
    "#    alfa: float\n",
    "\n",
    "def pvalues(FG,alfa):\n",
    "    plarger = sum(map(lambda x : x>= alfa, FG))/len(FG)\n",
    "    psmaller = sum(map(lambda x : x<= alfa, FG))/len(FG)\n",
    "    return plarger,psmaller\n",
    "\n",
    "ER_graphs = generateRandGraphs(\"ER\", 10, [G.number_of_nodes(), 0.005])\n",
    "ER_CC = list(map(nk.centrality.Closeness,ER_graphs,[True for i in range(10)],[False for i in range(10)]))\n",
    "# Need to call each run() method to each element in order to calculate the centralities\n",
    "ER_CC = list(tqdm(map(lambda obj: obj.run(), ER_CC)))\n",
    "ER_CC_ranking = list(map(lambda obj: obj.ranking(), ER_CC))"
   ]
  },
  {
   "cell_type": "code",
   "execution_count": null,
   "metadata": {},
   "outputs": [],
   "source": []
  },
  {
   "cell_type": "code",
   "execution_count": null,
   "metadata": {},
   "outputs": [],
   "source": [
    "ER_graphs[0].numberOfEdges(),ER_graphs[0].numberOfNodes(),ER_graphs[0].numberOfSelfLoops()"
   ]
  },
  {
   "cell_type": "code",
   "execution_count": null,
   "metadata": {},
   "outputs": [],
   "source": [
    "nkG.numberOfEdges(),nkG.numberOfNodes(),nkG.numberOfSelfLoops()"
   ]
  },
  {
   "cell_type": "code",
   "execution_count": null,
   "metadata": {},
   "outputs": [],
   "source": [
    "import itertools\n",
    "import seaborn as sns\n",
    "# merge ER_CC_ranking, we will obtain a list of (key,value) pairs \n",
    "#representing the id of each node as key\n",
    "# and the closeness centrality as value\n",
    "ER_CC_ranking_merged = list(itertools.chain(*ER_CC_ranking))\n",
    "ER_CC_ranking_merged_df = pd.DataFrame(ER_CC_ranking_merged)\n",
    "#ER_CC_ranking_merged_df = pd.DataFrame([ER_CC_ranking_merged]).T\n",
    "\n",
    "ER_CC_ranking_merged_df.columns = {\"key\":\"key\",\"closeness\":\"value\"}\n",
    "\n",
    "mean_by_key = ER_CC_ranking_merged_df.groupby(\"key\").mean()\n",
    "std_by_key = ER_CC_ranking_merged_df.groupby(\"key\").std()\n",
    "\n",
    "f = pd.DataFrame(centrality(nkG,\"closeness\",\"nk\"))\n",
    "f.columns = {\"key\":\"key\",\"closeness\":\"value\"}\n",
    "f = f.set_index('key').sort_index()\n",
    "\n",
    "zscore_closeness = pd.DataFrame(zscore(f[\"closeness\"],mean_by_key[\"closeness\"],std_by_key[\"closeness\"]))\n",
    "zscore_closeness.columns = {\"zscore\"}\n",
    "zscore_closeness[\"centrality_f\"] = f[\"closeness\"]\n",
    "zscore_closeness[\"mean_rand\"] = mean_by_key\n",
    "zscore_closeness[\"std_rand\"] = std_by_key\n",
    "zscore_closeness\n",
    "#sns.violinplot(x=zscore_closeness[\"centrality_f\"], y=zscore_closeness[\"zscore\"],palette=\"Set3\", bw=.2, cut=1, linewidth=1)"
   ]
  },
  {
   "cell_type": "code",
   "execution_count": null,
   "metadata": {},
   "outputs": [],
   "source": [
    "\n",
    "\n",
    "\n",
    "import matplotlib.pyplot as plt\n",
    "import seaborn as sns\n",
    "\n",
    "sns.set_theme(style=\"whitegrid\")\n",
    "\n",
    "# Load the example dataset of brain network correlations\n",
    "df = sns.load_dataset(\"brain_networks\", header=[0, 1, 2], index_col=0)\n",
    "\n",
    "# Pull out a specific subset of networks\n",
    "used_networks = [1, 3, 4, 5, 6, 7, 8, 11, 12, 13, 16, 17]\n",
    "used_columns = (df.columns.get_level_values(\"network\")\n",
    "                          .astype(int)\n",
    "                          .isin(used_networks))\n",
    "df = df.loc[:, used_columns]\n",
    "\n",
    "# Compute the correlation matrix and average over networks\n",
    "corr_df = df.corr().groupby(level=\"network\").mean()\n",
    "corr_df.index = corr_df.index.astype(int)\n",
    "corr_df = corr_df.sort_index().T\n",
    "\n",
    "# Set up the matplotlib figure\n",
    "f, ax = plt.subplots(figsize=(11, 6))\n",
    "\n",
    "# Draw a violinplot with a narrower bandwidth than the default\n",
    "sns.violinplot(data=corr_df, palette=\"Set3\", bw=.2, cut=1, linewidth=1)\n",
    "\n",
    "# Finalize the figure\n",
    "ax.set(ylim=(-.7, 1.05))\n",
    "sns.despine(left=True, bottom=True)\n"
   ]
  },
  {
   "cell_type": "code",
   "execution_count": null,
   "metadata": {
    "scrolled": true
   },
   "outputs": [],
   "source": [
    "avg_CC_randG = list(map(nk.globals.clustering, ER_graphs))\n",
    "zscore_randG = zscore(ACC_nkG,np.mean(avg_CC_randG), np.std(avg_CC_randG))\n",
    "print(zscore_randG)"
   ]
  },
  {
   "cell_type": "code",
   "execution_count": null,
   "metadata": {},
   "outputs": [],
   "source": [
    "pvalues_ = pvalues(avg_CC_randG, 0.1 )\n",
    "pvalues_"
   ]
  },
  {
   "cell_type": "code",
   "execution_count": null,
   "metadata": {},
   "outputs": [],
   "source": [
    "avg_CC_randG"
   ]
  }
 ],
 "metadata": {
  "accelerator": "GPU",
  "colab": {
   "name": "politics.ipynb",
   "provenance": []
  },
  "kernelspec": {
   "display_name": "Python 3",
   "language": "python",
   "name": "python3"
  },
  "language_info": {
   "codemirror_mode": {
    "name": "ipython",
    "version": 3
   },
   "file_extension": ".py",
   "mimetype": "text/x-python",
   "name": "python",
   "nbconvert_exporter": "python",
   "pygments_lexer": "ipython3",
   "version": "3.8.10"
  }
 },
 "nbformat": 4,
 "nbformat_minor": 1
}
